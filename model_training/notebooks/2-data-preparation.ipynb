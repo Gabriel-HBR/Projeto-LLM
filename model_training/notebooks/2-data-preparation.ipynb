{
 "cells": [
  {
   "cell_type": "markdown",
   "id": "56362969",
   "metadata": {},
   "source": [
    "# Preparando os dados"
   ]
  },
  {
   "cell_type": "code",
   "execution_count": 12,
   "id": "09233cf2",
   "metadata": {},
   "outputs": [],
   "source": [
    "# importando bibliotecas\n",
    "import pandas as pd"
   ]
  },
  {
   "cell_type": "code",
   "execution_count": 13,
   "id": "7d05e150",
   "metadata": {},
   "outputs": [
    {
     "data": {
      "text/html": [
       "<div>\n",
       "<style scoped>\n",
       "    .dataframe tbody tr th:only-of-type {\n",
       "        vertical-align: middle;\n",
       "    }\n",
       "\n",
       "    .dataframe tbody tr th {\n",
       "        vertical-align: top;\n",
       "    }\n",
       "\n",
       "    .dataframe thead th {\n",
       "        text-align: right;\n",
       "    }\n",
       "</style>\n",
       "<table border=\"1\" class=\"dataframe\">\n",
       "  <thead>\n",
       "    <tr style=\"text-align: right;\">\n",
       "      <th></th>\n",
       "      <th>text</th>\n",
       "      <th>homophobia</th>\n",
       "      <th>obscene</th>\n",
       "      <th>insult</th>\n",
       "      <th>racism</th>\n",
       "      <th>misogyny</th>\n",
       "      <th>xenophobia</th>\n",
       "    </tr>\n",
       "  </thead>\n",
       "  <tbody>\n",
       "    <tr>\n",
       "      <th>0</th>\n",
       "      <td>Meu nivel de amizade com isis é ela ter meu in...</td>\n",
       "      <td>0.0</td>\n",
       "      <td>0.0</td>\n",
       "      <td>2.0</td>\n",
       "      <td>0.0</td>\n",
       "      <td>0.0</td>\n",
       "      <td>0.0</td>\n",
       "    </tr>\n",
       "    <tr>\n",
       "      <th>1</th>\n",
       "      <td>rt @user @user o cara adultera dados, que fora...</td>\n",
       "      <td>0.0</td>\n",
       "      <td>0.0</td>\n",
       "      <td>1.0</td>\n",
       "      <td>0.0</td>\n",
       "      <td>0.0</td>\n",
       "      <td>0.0</td>\n",
       "    </tr>\n",
       "    <tr>\n",
       "      <th>2</th>\n",
       "      <td>@user @user @user o cara só é simplesmente o m...</td>\n",
       "      <td>0.0</td>\n",
       "      <td>2.0</td>\n",
       "      <td>1.0</td>\n",
       "      <td>0.0</td>\n",
       "      <td>0.0</td>\n",
       "      <td>0.0</td>\n",
       "    </tr>\n",
       "    <tr>\n",
       "      <th>3</th>\n",
       "      <td>eu to chorando vei vsf e eu nem staneio izone ...</td>\n",
       "      <td>0.0</td>\n",
       "      <td>1.0</td>\n",
       "      <td>0.0</td>\n",
       "      <td>0.0</td>\n",
       "      <td>0.0</td>\n",
       "      <td>0.0</td>\n",
       "    </tr>\n",
       "    <tr>\n",
       "      <th>4</th>\n",
       "      <td>Eleitor do Bolsonaro é tão ignorante q não per...</td>\n",
       "      <td>0.0</td>\n",
       "      <td>1.0</td>\n",
       "      <td>2.0</td>\n",
       "      <td>0.0</td>\n",
       "      <td>0.0</td>\n",
       "      <td>0.0</td>\n",
       "    </tr>\n",
       "  </tbody>\n",
       "</table>\n",
       "</div>"
      ],
      "text/plain": [
       "                                                text  homophobia  obscene  \\\n",
       "0  Meu nivel de amizade com isis é ela ter meu in...         0.0      0.0   \n",
       "1  rt @user @user o cara adultera dados, que fora...         0.0      0.0   \n",
       "2  @user @user @user o cara só é simplesmente o m...         0.0      2.0   \n",
       "3  eu to chorando vei vsf e eu nem staneio izone ...         0.0      1.0   \n",
       "4  Eleitor do Bolsonaro é tão ignorante q não per...         0.0      1.0   \n",
       "\n",
       "   insult  racism  misogyny  xenophobia  \n",
       "0     2.0     0.0       0.0         0.0  \n",
       "1     1.0     0.0       0.0         0.0  \n",
       "2     1.0     0.0       0.0         0.0  \n",
       "3     0.0     0.0       0.0         0.0  \n",
       "4     2.0     0.0       0.0         0.0  "
      ]
     },
     "execution_count": 13,
     "metadata": {},
     "output_type": "execute_result"
    }
   ],
   "source": [
    "directory = './../data/raw/ToLD-BR.csv'\n",
    "#df = pd.read_csv(directory, encoding='utf-8-sig')\n",
    "df = pd.read_csv(directory, encoding='utf8', dtype={'text': str})\n",
    "df.head()"
   ]
  },
  {
   "cell_type": "markdown",
   "id": "5580248c",
   "metadata": {},
   "source": [
    "# Tratamento"
   ]
  },
  {
   "cell_type": "markdown",
   "id": "7be0854c",
   "metadata": {},
   "source": [
    "## Removendo a string '@user'"
   ]
  },
  {
   "cell_type": "code",
   "execution_count": 14,
   "id": "8cb65846",
   "metadata": {},
   "outputs": [
    {
     "data": {
      "text/html": [
       "<div>\n",
       "<style scoped>\n",
       "    .dataframe tbody tr th:only-of-type {\n",
       "        vertical-align: middle;\n",
       "    }\n",
       "\n",
       "    .dataframe tbody tr th {\n",
       "        vertical-align: top;\n",
       "    }\n",
       "\n",
       "    .dataframe thead th {\n",
       "        text-align: right;\n",
       "    }\n",
       "</style>\n",
       "<table border=\"1\" class=\"dataframe\">\n",
       "  <thead>\n",
       "    <tr style=\"text-align: right;\">\n",
       "      <th></th>\n",
       "      <th>text</th>\n",
       "      <th>homophobia</th>\n",
       "      <th>obscene</th>\n",
       "      <th>insult</th>\n",
       "      <th>racism</th>\n",
       "      <th>misogyny</th>\n",
       "      <th>xenophobia</th>\n",
       "    </tr>\n",
       "  </thead>\n",
       "  <tbody>\n",
       "    <tr>\n",
       "      <th>0</th>\n",
       "      <td>Meu nivel de amizade com isis é ela ter meu in...</td>\n",
       "      <td>0.0</td>\n",
       "      <td>0.0</td>\n",
       "      <td>2.0</td>\n",
       "      <td>0.0</td>\n",
       "      <td>0.0</td>\n",
       "      <td>0.0</td>\n",
       "    </tr>\n",
       "    <tr>\n",
       "      <th>1</th>\n",
       "      <td>rt   o cara adultera dados, que foram desmasca...</td>\n",
       "      <td>0.0</td>\n",
       "      <td>0.0</td>\n",
       "      <td>1.0</td>\n",
       "      <td>0.0</td>\n",
       "      <td>0.0</td>\n",
       "      <td>0.0</td>\n",
       "    </tr>\n",
       "    <tr>\n",
       "      <th>2</th>\n",
       "      <td>o cara só é simplesmente o maior vencedor d...</td>\n",
       "      <td>0.0</td>\n",
       "      <td>2.0</td>\n",
       "      <td>1.0</td>\n",
       "      <td>0.0</td>\n",
       "      <td>0.0</td>\n",
       "      <td>0.0</td>\n",
       "    </tr>\n",
       "    <tr>\n",
       "      <th>3</th>\n",
       "      <td>eu to chorando vei vsf e eu nem staneio izone ...</td>\n",
       "      <td>0.0</td>\n",
       "      <td>1.0</td>\n",
       "      <td>0.0</td>\n",
       "      <td>0.0</td>\n",
       "      <td>0.0</td>\n",
       "      <td>0.0</td>\n",
       "    </tr>\n",
       "    <tr>\n",
       "      <th>4</th>\n",
       "      <td>Eleitor do Bolsonaro é tão ignorante q não per...</td>\n",
       "      <td>0.0</td>\n",
       "      <td>1.0</td>\n",
       "      <td>2.0</td>\n",
       "      <td>0.0</td>\n",
       "      <td>0.0</td>\n",
       "      <td>0.0</td>\n",
       "    </tr>\n",
       "  </tbody>\n",
       "</table>\n",
       "</div>"
      ],
      "text/plain": [
       "                                                text  homophobia  obscene  \\\n",
       "0  Meu nivel de amizade com isis é ela ter meu in...         0.0      0.0   \n",
       "1  rt   o cara adultera dados, que foram desmasca...         0.0      0.0   \n",
       "2     o cara só é simplesmente o maior vencedor d...         0.0      2.0   \n",
       "3  eu to chorando vei vsf e eu nem staneio izone ...         0.0      1.0   \n",
       "4  Eleitor do Bolsonaro é tão ignorante q não per...         0.0      1.0   \n",
       "\n",
       "   insult  racism  misogyny  xenophobia  \n",
       "0     2.0     0.0       0.0         0.0  \n",
       "1     1.0     0.0       0.0         0.0  \n",
       "2     1.0     0.0       0.0         0.0  \n",
       "3     0.0     0.0       0.0         0.0  \n",
       "4     2.0     0.0       0.0         0.0  "
      ]
     },
     "execution_count": 14,
     "metadata": {},
     "output_type": "execute_result"
    }
   ],
   "source": [
    "# removing the string '@user' from the text\n",
    "df['text'] = df['text'].str.replace('@user', '', regex=False)\n",
    "df.head()"
   ]
  },
  {
   "cell_type": "markdown",
   "id": "3820f8c5",
   "metadata": {},
   "source": [
    "## Removendo a string 'rt '"
   ]
  },
  {
   "cell_type": "code",
   "execution_count": 15,
   "id": "65c26e8a",
   "metadata": {},
   "outputs": [
    {
     "data": {
      "text/html": [
       "<div>\n",
       "<style scoped>\n",
       "    .dataframe tbody tr th:only-of-type {\n",
       "        vertical-align: middle;\n",
       "    }\n",
       "\n",
       "    .dataframe tbody tr th {\n",
       "        vertical-align: top;\n",
       "    }\n",
       "\n",
       "    .dataframe thead th {\n",
       "        text-align: right;\n",
       "    }\n",
       "</style>\n",
       "<table border=\"1\" class=\"dataframe\">\n",
       "  <thead>\n",
       "    <tr style=\"text-align: right;\">\n",
       "      <th></th>\n",
       "      <th>text</th>\n",
       "      <th>homophobia</th>\n",
       "      <th>obscene</th>\n",
       "      <th>insult</th>\n",
       "      <th>racism</th>\n",
       "      <th>misogyny</th>\n",
       "      <th>xenophobia</th>\n",
       "    </tr>\n",
       "  </thead>\n",
       "  <tbody>\n",
       "    <tr>\n",
       "      <th>0</th>\n",
       "      <td>Meu nivel de amizade com isis é ela ter meu in...</td>\n",
       "      <td>0.0</td>\n",
       "      <td>0.0</td>\n",
       "      <td>2.0</td>\n",
       "      <td>0.0</td>\n",
       "      <td>0.0</td>\n",
       "      <td>0.0</td>\n",
       "    </tr>\n",
       "    <tr>\n",
       "      <th>1</th>\n",
       "      <td>o cara adultera dados, que foram desmascarad...</td>\n",
       "      <td>0.0</td>\n",
       "      <td>0.0</td>\n",
       "      <td>1.0</td>\n",
       "      <td>0.0</td>\n",
       "      <td>0.0</td>\n",
       "      <td>0.0</td>\n",
       "    </tr>\n",
       "    <tr>\n",
       "      <th>2</th>\n",
       "      <td>o cara só é simplesmente o maior vencedor d...</td>\n",
       "      <td>0.0</td>\n",
       "      <td>2.0</td>\n",
       "      <td>1.0</td>\n",
       "      <td>0.0</td>\n",
       "      <td>0.0</td>\n",
       "      <td>0.0</td>\n",
       "    </tr>\n",
       "    <tr>\n",
       "      <th>3</th>\n",
       "      <td>eu to chorando vei vsf e eu nem staneio izone ...</td>\n",
       "      <td>0.0</td>\n",
       "      <td>1.0</td>\n",
       "      <td>0.0</td>\n",
       "      <td>0.0</td>\n",
       "      <td>0.0</td>\n",
       "      <td>0.0</td>\n",
       "    </tr>\n",
       "    <tr>\n",
       "      <th>4</th>\n",
       "      <td>Eleitor do Bolsonaro é tão ignorante q não per...</td>\n",
       "      <td>0.0</td>\n",
       "      <td>1.0</td>\n",
       "      <td>2.0</td>\n",
       "      <td>0.0</td>\n",
       "      <td>0.0</td>\n",
       "      <td>0.0</td>\n",
       "    </tr>\n",
       "  </tbody>\n",
       "</table>\n",
       "</div>"
      ],
      "text/plain": [
       "                                                text  homophobia  obscene  \\\n",
       "0  Meu nivel de amizade com isis é ela ter meu in...         0.0      0.0   \n",
       "1    o cara adultera dados, que foram desmascarad...         0.0      0.0   \n",
       "2     o cara só é simplesmente o maior vencedor d...         0.0      2.0   \n",
       "3  eu to chorando vei vsf e eu nem staneio izone ...         0.0      1.0   \n",
       "4  Eleitor do Bolsonaro é tão ignorante q não per...         0.0      1.0   \n",
       "\n",
       "   insult  racism  misogyny  xenophobia  \n",
       "0     2.0     0.0       0.0         0.0  \n",
       "1     1.0     0.0       0.0         0.0  \n",
       "2     1.0     0.0       0.0         0.0  \n",
       "3     0.0     0.0       0.0         0.0  \n",
       "4     2.0     0.0       0.0         0.0  "
      ]
     },
     "execution_count": 15,
     "metadata": {},
     "output_type": "execute_result"
    }
   ],
   "source": [
    "# removing the string '@user' from the text\n",
    "df['text'] = df['text'].str.replace('rt ', '', regex=False)\n",
    "df.head()"
   ]
  },
  {
   "cell_type": "code",
   "execution_count": 16,
   "id": "97a5d9c6",
   "metadata": {},
   "outputs": [],
   "source": [
    "df.to_csv('./../data/processed/ToLD-processed-1.csv', index=False)"
   ]
  },
  {
   "cell_type": "markdown",
   "id": "5481fab6",
   "metadata": {},
   "source": [
    "## Substituindo caracteres"
   ]
  },
  {
   "cell_type": "markdown",
   "id": "0099dfc9",
   "metadata": {},
   "source": [
    "Após passar por análise, os seguintes caracteres serão substituídos"
   ]
  },
  {
   "cell_type": "code",
   "execution_count": 17,
   "id": "5ead8ca5",
   "metadata": {},
   "outputs": [],
   "source": [
    "chars_to_substitute = {\n",
    "    '谩': 'á',\n",
    "    '脿': 'à',\n",
    "    '芒': 'â',\n",
    "    '茫': 'ã',\n",
    "    '茅': 'é',\n",
    "    '锚': 'ê',\n",
    "    '铆': 'í',\n",
    "    '贸': 'ó',\n",
    "    '么': 'ô',\n",
    "    '玫': 'õ',\n",
    "    '煤': 'ú',\n",
    "    '莽': 'ç',\n",
    "    '脳': 'x',\n",
    "    '聽': ' ',\n",
    "    '': \"i\",\n",
    "    \n",
    "    '脡': 'É',\n",
    "    '脥': 'Í',\n",
    "    '脙': 'Ã',\n",
    "    '淥': 'O',\n",
    "    '渉': 'H',\n",
    "    '渃': 'C',\n",
    "    '減': 'C',\n",
    "    '楤': 'B',\n",
    "    '脟': 'Ç',\n",
    "    '脭': 'Ô',\n",
    "    '脕': 'Á',\n",
    "    '脗': 'Â',\n",
    "    '陋': 'ª',\n",
    "    \n",
    "    # Caracteres adicionais\n",
    "    '\"': '\"',  # aspas inteligentes\n",
    "    '\"': '\"',  # aspas inteligentes\n",
    "    '‍': '',   # zero width joiner\n",
    "    '\\u2019': \"'\",  # apostrofe inteligente\n",
    "    '�': \"\",\n",
    "}"
   ]
  },
  {
   "cell_type": "code",
   "execution_count": 18,
   "id": "eed7c1a7",
   "metadata": {},
   "outputs": [],
   "source": [
    "#substituindo os caracteres\n",
    "for char, sub in chars_to_substitute.items():\n",
    "    df['text'] = df['text'].str.replace(char, sub, regex=False)"
   ]
  },
  {
   "cell_type": "code",
   "execution_count": 19,
   "id": "6a856494",
   "metadata": {},
   "outputs": [],
   "source": [
    "df.to_csv('./../data/processed/ToLD-processed-2.csv', index=False)"
   ]
  },
  {
   "cell_type": "markdown",
   "id": "22691493",
   "metadata": {},
   "source": [
    "## Removendo o resto dos caracteres desconhecidos"
   ]
  },
  {
   "cell_type": "code",
   "execution_count": 20,
   "id": "2de78ee1",
   "metadata": {},
   "outputs": [],
   "source": [
    "import re\n",
    "\n",
    "def remover_caracteres (text):\n",
    "    \n",
    "    # Limpeza sistemática de caracteres\n",
    "    text = re.sub(r'[\\u4E00-\\u9FFF]', '', text)  # Caracteres CJK\n",
    "    text = re.sub(r'[\\uAC00-\\uD7AF]', '', text)  # Hangul\n",
    "    text = re.sub(r'[\\u3040-\\u309F]', '', text)  # Hiragana\n",
    "    text = re.sub(r'[\\u30A0-\\u30FF]', '', text)  # Katakana\n",
    "    \n",
    "    return text\n",
    "\n",
    "df['text'] = df['text'].apply(remover_caracteres)"
   ]
  },
  {
   "cell_type": "code",
   "execution_count": 21,
   "id": "ab495b3b",
   "metadata": {},
   "outputs": [],
   "source": [
    "df.to_csv('./../data/processed/ToLD-processed-3.csv', index=False)"
   ]
  },
  {
   "cell_type": "code",
   "execution_count": 22,
   "id": "f3ac1e72",
   "metadata": {},
   "outputs": [],
   "source": [
    "## buscando caracteres '莽\\.'\n",
    "# chars_to_replace = df['text'].str.extractall(r'馃(.)')\n",
    "# print(chars_to_replace)\n",
    "# chars_to_replace = chars_to_replace.unstack().values.flatten()\n",
    "# chars_to_replace = pd.Series(chars_to_replace).dropna().unique().tolist()\n",
    "# print(chars_to_replace)"
   ]
  }
 ],
 "metadata": {
  "kernelspec": {
   "display_name": ".venv",
   "language": "python",
   "name": "python3"
  },
  "language_info": {
   "codemirror_mode": {
    "name": "ipython",
    "version": 3
   },
   "file_extension": ".py",
   "mimetype": "text/x-python",
   "name": "python",
   "nbconvert_exporter": "python",
   "pygments_lexer": "ipython3",
   "version": "3.13.7"
  }
 },
 "nbformat": 4,
 "nbformat_minor": 5
}
