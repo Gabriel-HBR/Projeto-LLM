{
 "cells": [
  {
   "cell_type": "markdown",
   "id": "a43a35f4",
   "metadata": {},
   "source": [
    "# Explorando os dados\n",
    "\n",
    "https://raw.githubusercontent.com/joaoaleite/ToLD-Br/refs/heads/main/ToLD-BR.csv"
   ]
  },
  {
   "cell_type": "code",
   "execution_count": 1,
   "id": "2916327c",
   "metadata": {},
   "outputs": [],
   "source": [
    "# importando bibliotecas\n",
    "import pandas as pd"
   ]
  },
  {
   "cell_type": "code",
   "execution_count": 8,
   "id": "2a65d286",
   "metadata": {},
   "outputs": [
    {
     "data": {
      "text/html": [
       "<div>\n",
       "<style scoped>\n",
       "    .dataframe tbody tr th:only-of-type {\n",
       "        vertical-align: middle;\n",
       "    }\n",
       "\n",
       "    .dataframe tbody tr th {\n",
       "        vertical-align: top;\n",
       "    }\n",
       "\n",
       "    .dataframe thead th {\n",
       "        text-align: right;\n",
       "    }\n",
       "</style>\n",
       "<table border=\"1\" class=\"dataframe\">\n",
       "  <thead>\n",
       "    <tr style=\"text-align: right;\">\n",
       "      <th></th>\n",
       "      <th>text</th>\n",
       "      <th>homophobia</th>\n",
       "      <th>obscene</th>\n",
       "      <th>insult</th>\n",
       "      <th>racism</th>\n",
       "      <th>misogyny</th>\n",
       "      <th>xenophobia</th>\n",
       "    </tr>\n",
       "  </thead>\n",
       "  <tbody>\n",
       "    <tr>\n",
       "      <th>0</th>\n",
       "      <td>Meu nivel de amizade com isis é ela ter meu in...</td>\n",
       "      <td>0.0</td>\n",
       "      <td>0.0</td>\n",
       "      <td>2.0</td>\n",
       "      <td>0.0</td>\n",
       "      <td>0.0</td>\n",
       "      <td>0.0</td>\n",
       "    </tr>\n",
       "    <tr>\n",
       "      <th>1</th>\n",
       "      <td>rt @user @user o cara adultera dados, que fora...</td>\n",
       "      <td>0.0</td>\n",
       "      <td>0.0</td>\n",
       "      <td>1.0</td>\n",
       "      <td>0.0</td>\n",
       "      <td>0.0</td>\n",
       "      <td>0.0</td>\n",
       "    </tr>\n",
       "    <tr>\n",
       "      <th>2</th>\n",
       "      <td>@user @user @user o cara só é simplesmente o m...</td>\n",
       "      <td>0.0</td>\n",
       "      <td>2.0</td>\n",
       "      <td>1.0</td>\n",
       "      <td>0.0</td>\n",
       "      <td>0.0</td>\n",
       "      <td>0.0</td>\n",
       "    </tr>\n",
       "    <tr>\n",
       "      <th>3</th>\n",
       "      <td>eu to chorando vei vsf e eu nem staneio izone ...</td>\n",
       "      <td>0.0</td>\n",
       "      <td>1.0</td>\n",
       "      <td>0.0</td>\n",
       "      <td>0.0</td>\n",
       "      <td>0.0</td>\n",
       "      <td>0.0</td>\n",
       "    </tr>\n",
       "    <tr>\n",
       "      <th>4</th>\n",
       "      <td>Eleitor do Bolsonaro é tão ignorante q não per...</td>\n",
       "      <td>0.0</td>\n",
       "      <td>1.0</td>\n",
       "      <td>2.0</td>\n",
       "      <td>0.0</td>\n",
       "      <td>0.0</td>\n",
       "      <td>0.0</td>\n",
       "    </tr>\n",
       "  </tbody>\n",
       "</table>\n",
       "</div>"
      ],
      "text/plain": [
       "                                                text  homophobia  obscene  \\\n",
       "0  Meu nivel de amizade com isis é ela ter meu in...         0.0      0.0   \n",
       "1  rt @user @user o cara adultera dados, que fora...         0.0      0.0   \n",
       "2  @user @user @user o cara só é simplesmente o m...         0.0      2.0   \n",
       "3  eu to chorando vei vsf e eu nem staneio izone ...         0.0      1.0   \n",
       "4  Eleitor do Bolsonaro é tão ignorante q não per...         0.0      1.0   \n",
       "\n",
       "   insult  racism  misogyny  xenophobia  \n",
       "0     2.0     0.0       0.0         0.0  \n",
       "1     1.0     0.0       0.0         0.0  \n",
       "2     1.0     0.0       0.0         0.0  \n",
       "3     0.0     0.0       0.0         0.0  \n",
       "4     2.0     0.0       0.0         0.0  "
      ]
     },
     "execution_count": 8,
     "metadata": {},
     "output_type": "execute_result"
    }
   ],
   "source": [
    "# pegar o link do arquivo, ler e mostrar as 5 primeiras linhas\n",
    "url = 'https://raw.githubusercontent.com/joaoaleite/ToLD-Br/refs/heads/main/ToLD-BR.csv'\n",
    "df = pd.read_csv(url)\n",
    "df.to_csv('./../data/raw/ToLD-BR.csv', index=False)\n",
    "df.head()"
   ]
  },
  {
   "cell_type": "code",
   "execution_count": 4,
   "id": "cfbb2342",
   "metadata": {},
   "outputs": [
    {
     "name": "stdout",
     "output_type": "stream",
     "text": [
      "<class 'pandas.core.frame.DataFrame'>\n",
      "RangeIndex: 21000 entries, 0 to 20999\n",
      "Data columns (total 7 columns):\n",
      " #   Column      Non-Null Count  Dtype  \n",
      "---  ------      --------------  -----  \n",
      " 0   text        21000 non-null  object \n",
      " 1   homophobia  21000 non-null  float64\n",
      " 2   obscene     21000 non-null  float64\n",
      " 3   insult      21000 non-null  float64\n",
      " 4   racism      21000 non-null  float64\n",
      " 5   misogyny    21000 non-null  float64\n",
      " 6   xenophobia  21000 non-null  float64\n",
      "dtypes: float64(6), object(1)\n",
      "memory usage: 1.1+ MB\n"
     ]
    }
   ],
   "source": [
    "df.info()"
   ]
  },
  {
   "cell_type": "markdown",
   "id": "e62e4ab6",
   "metadata": {},
   "source": [
    "## Ordenando pelo tamanho do texto"
   ]
  },
  {
   "cell_type": "code",
   "execution_count": 50,
   "id": "d6a12bb2",
   "metadata": {},
   "outputs": [
    {
     "data": {
      "text/plain": [
       "3431     @user @user @user @user @user @user @user @user @user @user @user @user @user @user @user @user @user @user @user @user @user @user @user @user @user @user @user @user @user @user @user @user @user @user @user @user @user @user @user @user @user @user @user @user @user @user @user @user @user .@user\\n\\nNão existe UM anti-Lula honesto, NENHUM\\n. https://t.co/0Gd2LFOvHE\n",
       "16368                                                Ela era/é muito a minha crush de parada de ônibus; todo dia q eu voltava da faculdade a noite, ela tava esperando o bus pro trabalho e eu viajava demais na beleza dessa menina. Até q um dia eu descobri o insta dela e pedi pra seguir, ela me mandou um \"oi\" e agora tamo namorandi https://t.co/JXORqbFwIw https://t.co/XC3LNwFYgb\n",
       "18960                                           @user @user @user @user MAIORES IDOLOS DOS CLUBES\\nFLAMENGO - ZICO\\n\\nSÃO PEIDO - ROGERIO CENI\\n\\nsabe o que nao tem reo, ver bambi pagando pau pro nossos idolos \\nKKKKKKKKKKKKKKKKKKKKKKKKKKKKKKKKKKKKKKKKKKKKKKKKKKKKKKKKKKKKKKKKKKKKKKKKKKKKKKKKKKKKKKKKKKKKKKKKKKKKKKKKKKKKKKKKKKKKKKKKKKKKKKKKKKKKKKKKKKKKKKK https://t.co/h9j7Oyahvj\n",
       "1221                                                     @user @user @user @user @user @user @user @user @user @user @user @user @user @user @user @user @user @user @user @user @user @user @user @user @user @user @user @user @user @user @user @user @user @user @user @user @user @user @user @user @user @user @user @user @user @user @user @user @user @user Boa tarde amigo Joel 🙏\n",
       "20657                                                      @user @user @user @user @user @user @user + simplesmente porque a magreza te agrada como padrão estético, mas uma gorda não. E antes que venha com “ah mas ninguém é obrigado a achar bonito e pipipi...”. Realmente. Ninguém é obrigado. Então se seu propósito foi unicamente vir aqui e falar absurdos sobre o corpo de uma +\n",
       "19308                                                          @user @user @user @user @user @user Acho que ninguém esteja defendendo a agressão sofrida. O que não dá pra admitir é usar a sua influência na internet pra impor o seu lado da história. E esse conceito de \"humilhar\" é bem relativo. Geralmente requer uma posição mais alta numa hierarquia social, o que não era o caso\n",
       "3600                                                             @user @user @user Segundo o ministro, a duplicação da BR-116/RS, que está 70% finalizada, é de suma importância para o sul do país. \"A BR-116/RS é estratégica e interliga Porto Alegre às principais regiões gaúchas, além de ser a principal via de acesso ao Porto do Rio Grande\", avalia @user https://t.co/dgeil5zXaJ\n",
       "7921                                                             @user @user Nosso Presidente Jair Bolsonaro! Me ajuda!!! Entrei no dia 11.07 recurso (Protocolo de Requerimento: 307074014) no INSS contra um indeferimento (injusto) disseram que tem até SEIS MESES para dar um veredito. Nossa SEIS MESES??? (Nr do Benefício: 6280904052). Veja o requerimento https://t.co/JoepTprMy4\n",
       "12939                                                              @user @user @user prejuIza kk Brisa música pop mais tocada nas rádios, pesadão no top 10 sendo lançada em 2017, Dona de Mim charteando no top 200 do spotify já vai fazer um ano, e top 5 no iTunes essa semana prejuízo é o que a Anitta ta dando pra gravadora que paga feat gringo e fracassa https://t.co/AYa2KNsFPT\n",
       "19255                                                             @user Eu não nutro qualquer esperança de resolução desse caso do VerdeViado.\\nJá está patente que tanto PF quanto MPF estão aparelhados e a serviço da ORCRIM.\\nIsso tem um forte cheiro de EMBUSTE, tal qual ocorreu com o caso Adélio, que agora se desenha o mesmo \"enrolation\".\\nAcorda POVO! https://t.co/kmYENpRHFC\n",
       "Name: text, dtype: object"
      ]
     },
     "metadata": {},
     "output_type": "display_data"
    }
   ],
   "source": [
    "# mostrar os 10 maiores textos e mostrar por completo\n",
    "pd.set_option('display.max_colwidth', None)\n",
    "display(df.loc[df['text'].str.len().nlargest(10).index, 'text'])\n",
    "pd.reset_option('display.max_colwidth')\n"
   ]
  },
  {
   "cell_type": "markdown",
   "id": "6e4a61c4",
   "metadata": {},
   "source": [
    "## Pesquisa por texto"
   ]
  },
  {
   "cell_type": "code",
   "execution_count": 47,
   "id": "10e5e8b4",
   "metadata": {},
   "outputs": [
    {
     "data": {
      "text/html": [
       "<div>\n",
       "<style scoped>\n",
       "    .dataframe tbody tr th:only-of-type {\n",
       "        vertical-align: middle;\n",
       "    }\n",
       "\n",
       "    .dataframe tbody tr th {\n",
       "        vertical-align: top;\n",
       "    }\n",
       "\n",
       "    .dataframe thead th {\n",
       "        text-align: right;\n",
       "    }\n",
       "</style>\n",
       "<table border=\"1\" class=\"dataframe\">\n",
       "  <thead>\n",
       "    <tr style=\"text-align: right;\">\n",
       "      <th></th>\n",
       "      <th>text</th>\n",
       "      <th>homophobia</th>\n",
       "      <th>obscene</th>\n",
       "      <th>insult</th>\n",
       "      <th>racism</th>\n",
       "      <th>misogyny</th>\n",
       "      <th>xenophobia</th>\n",
       "    </tr>\n",
       "  </thead>\n",
       "  <tbody>\n",
       "    <tr>\n",
       "      <th>425</th>\n",
       "      <td>maldito\\n\\nfaz parecer fácil</td>\n",
       "      <td>0.0</td>\n",
       "      <td>0.0</td>\n",
       "      <td>1.0</td>\n",
       "      <td>0.0</td>\n",
       "      <td>0.0</td>\n",
       "      <td>0.0</td>\n",
       "    </tr>\n",
       "    <tr>\n",
       "      <th>1900</th>\n",
       "      <td>rt @user maldito é o homem que confia no outro, atividade com as amizades!! jesus não foi traído por um desconhecido. bom dia s…</td>\n",
       "      <td>0.0</td>\n",
       "      <td>0.0</td>\n",
       "      <td>1.0</td>\n",
       "      <td>0.0</td>\n",
       "      <td>0.0</td>\n",
       "      <td>0.0</td>\n",
       "    </tr>\n",
       "    <tr>\n",
       "      <th>2399</th>\n",
       "      <td>sou ponei, no barro eu me lasco, na lama eu me amasso, eu, eu sou maldito..</td>\n",
       "      <td>0.0</td>\n",
       "      <td>0.0</td>\n",
       "      <td>1.0</td>\n",
       "      <td>0.0</td>\n",
       "      <td>0.0</td>\n",
       "      <td>0.0</td>\n",
       "    </tr>\n",
       "    <tr>\n",
       "      <th>2539</th>\n",
       "      <td>@user kkkkkkkkkkkkkkkkkkk tu é maldito mlk</td>\n",
       "      <td>0.0</td>\n",
       "      <td>0.0</td>\n",
       "      <td>2.0</td>\n",
       "      <td>0.0</td>\n",
       "      <td>0.0</td>\n",
       "      <td>0.0</td>\n",
       "    </tr>\n",
       "    <tr>\n",
       "      <th>2590</th>\n",
       "      <td>eu to destruído, maldito seja o corote de menta</td>\n",
       "      <td>0.0</td>\n",
       "      <td>0.0</td>\n",
       "      <td>1.0</td>\n",
       "      <td>0.0</td>\n",
       "      <td>0.0</td>\n",
       "      <td>0.0</td>\n",
       "    </tr>\n",
       "  </tbody>\n",
       "</table>\n",
       "</div>"
      ],
      "text/plain": [
       "                                                                                                                                  text  \\\n",
       "425                                                                                                       maldito\\n\\nfaz parecer fácil   \n",
       "1900  rt @user maldito é o homem que confia no outro, atividade com as amizades!! jesus não foi traído por um desconhecido. bom dia s…   \n",
       "2399                                                       sou ponei, no barro eu me lasco, na lama eu me amasso, eu, eu sou maldito..   \n",
       "2539                                                                                        @user kkkkkkkkkkkkkkkkkkk tu é maldito mlk   \n",
       "2590                                                                                   eu to destruído, maldito seja o corote de menta   \n",
       "\n",
       "      homophobia  obscene  insult  racism  misogyny  xenophobia  \n",
       "425          0.0      0.0     1.0     0.0       0.0         0.0  \n",
       "1900         0.0      0.0     1.0     0.0       0.0         0.0  \n",
       "2399         0.0      0.0     1.0     0.0       0.0         0.0  \n",
       "2539         0.0      0.0     2.0     0.0       0.0         0.0  \n",
       "2590         0.0      0.0     1.0     0.0       0.0         0.0  "
      ]
     },
     "metadata": {},
     "output_type": "display_data"
    }
   ],
   "source": [
    "text =\"maldito\"\n",
    "\n",
    "pd.set_option('display.max_colwidth', None)\n",
    "#pd.set_option('display.max_rows', None)\n",
    "\n",
    "display(df[df['text'].str.contains(text, case=False, na=False)].head())\n",
    "\n",
    "pd.reset_option('display.max_colwidth')\n",
    "#pd.reset_option('display.max_rows')"
   ]
  },
  {
   "cell_type": "markdown",
   "id": "ddea0bd1",
   "metadata": {},
   "source": [
    "## Ordenar pelo mais ofensivo"
   ]
  },
  {
   "cell_type": "code",
   "execution_count": null,
   "id": "95c82046",
   "metadata": {},
   "outputs": [],
   "source": [
    "# listar as linhas pela soma das colunas homophobia, obscene, insult, racism, misogyny, xenophobia em ordem decrescente\n",
    "df_copy = df.copy()\n",
    "df_copy['hate_sum'] = df_copy[['homophobia', 'obscene', 'insult', 'racism', 'misogyny', 'xenophobia']].sum(axis=1)\n",
    "df_sorted = df_copy.sort_values(by='hate_sum', ascending=False)"
   ]
  },
  {
   "cell_type": "code",
   "execution_count": null,
   "id": "948d7a4f",
   "metadata": {},
   "outputs": [],
   "source": [
    "pd.set_option('display.max_colwidth', None)\n",
    "display(df_sorted.head())\n",
    "pd.reset_option('display.max_colwidth')\n",
    "\n",
    "# Omiti a saída do código por ser bastante ofensiva\n",
    "# Rode o código por conta própria se quiser ver"
   ]
  },
  {
   "cell_type": "markdown",
   "id": "d400639e",
   "metadata": {},
   "source": [
    "## Pesquisar pela quantidade de @user"
   ]
  },
  {
   "cell_type": "code",
   "execution_count": 54,
   "id": "5726d352",
   "metadata": {},
   "outputs": [
    {
     "data": {
      "text/html": [
       "<div>\n",
       "<style scoped>\n",
       "    .dataframe tbody tr th:only-of-type {\n",
       "        vertical-align: middle;\n",
       "    }\n",
       "\n",
       "    .dataframe tbody tr th {\n",
       "        vertical-align: top;\n",
       "    }\n",
       "\n",
       "    .dataframe thead th {\n",
       "        text-align: right;\n",
       "    }\n",
       "</style>\n",
       "<table border=\"1\" class=\"dataframe\">\n",
       "  <thead>\n",
       "    <tr style=\"text-align: right;\">\n",
       "      <th></th>\n",
       "      <th>text</th>\n",
       "      <th>homophobia</th>\n",
       "      <th>obscene</th>\n",
       "      <th>insult</th>\n",
       "      <th>racism</th>\n",
       "      <th>misogyny</th>\n",
       "      <th>xenophobia</th>\n",
       "      <th>user_mentions</th>\n",
       "    </tr>\n",
       "  </thead>\n",
       "  <tbody>\n",
       "    <tr>\n",
       "      <th>1221</th>\n",
       "      <td>@user @user @user @user @user @user @user @user @user @user @user @user @user @user @user @user @user @user @user @user @user @user @user @user @user @user @user @user @user @user @user @user @user @user @user @user @user @user @user @user @user @user @user @user @user @user @user @user @user @user Boa tarde amigo Joel 🙏</td>\n",
       "      <td>0.0</td>\n",
       "      <td>0.0</td>\n",
       "      <td>0.0</td>\n",
       "      <td>0.0</td>\n",
       "      <td>0.0</td>\n",
       "      <td>0.0</td>\n",
       "      <td>50</td>\n",
       "    </tr>\n",
       "    <tr>\n",
       "      <th>3431</th>\n",
       "      <td>@user @user @user @user @user @user @user @user @user @user @user @user @user @user @user @user @user @user @user @user @user @user @user @user @user @user @user @user @user @user @user @user @user @user @user @user @user @user @user @user @user @user @user @user @user @user @user @user @user .@user\\n\\nNão existe UM anti-Lula honesto, NENHUM\\n. https://t.co/0Gd2LFOvHE</td>\n",
       "      <td>0.0</td>\n",
       "      <td>0.0</td>\n",
       "      <td>2.0</td>\n",
       "      <td>0.0</td>\n",
       "      <td>0.0</td>\n",
       "      <td>0.0</td>\n",
       "      <td>50</td>\n",
       "    </tr>\n",
       "    <tr>\n",
       "      <th>212</th>\n",
       "      <td>🇧🇷SDV DE DIREITA🇧🇷\\n@user\\n@user\\n@user\\n@user\\n@user\\n@user\\n@user\\n@user\\n@user\\n@user\\n@user\\n@user\\n@user\\n@user\\n@user\\n@user\\n@user\\n@user\\n@user\\n@user</td>\n",
       "      <td>0.0</td>\n",
       "      <td>0.0</td>\n",
       "      <td>0.0</td>\n",
       "      <td>0.0</td>\n",
       "      <td>0.0</td>\n",
       "      <td>0.0</td>\n",
       "      <td>20</td>\n",
       "    </tr>\n",
       "    <tr>\n",
       "      <th>4275</th>\n",
       "      <td>SDV-DIREITA UNIDA\\n@user\\n@user\\n@user\\n@user\\n@user\\n @user\\n@user\\n@user \\n@user \\n@user\\n@user \\n@user \\n@user \\n@user\\n@user \\n@user \\n@user\\n@user\\n@user</td>\n",
       "      <td>0.0</td>\n",
       "      <td>0.0</td>\n",
       "      <td>0.0</td>\n",
       "      <td>0.0</td>\n",
       "      <td>0.0</td>\n",
       "      <td>0.0</td>\n",
       "      <td>19</td>\n",
       "    </tr>\n",
       "    <tr>\n",
       "      <th>19764</th>\n",
       "      <td>@user @user @user @user @user @user @user @user @user @user @user @user @user @user @user @user @user @user @user os fatos pqp https://t.co/maN5FSN2lz</td>\n",
       "      <td>0.0</td>\n",
       "      <td>0.0</td>\n",
       "      <td>0.0</td>\n",
       "      <td>0.0</td>\n",
       "      <td>0.0</td>\n",
       "      <td>0.0</td>\n",
       "      <td>19</td>\n",
       "    </tr>\n",
       "  </tbody>\n",
       "</table>\n",
       "</div>"
      ],
      "text/plain": [
       "                                                                                                                                                                                                                                                                                                                                                                                     text  \\\n",
       "1221                                                   @user @user @user @user @user @user @user @user @user @user @user @user @user @user @user @user @user @user @user @user @user @user @user @user @user @user @user @user @user @user @user @user @user @user @user @user @user @user @user @user @user @user @user @user @user @user @user @user @user @user Boa tarde amigo Joel 🙏   \n",
       "3431   @user @user @user @user @user @user @user @user @user @user @user @user @user @user @user @user @user @user @user @user @user @user @user @user @user @user @user @user @user @user @user @user @user @user @user @user @user @user @user @user @user @user @user @user @user @user @user @user @user .@user\\n\\nNão existe UM anti-Lula honesto, NENHUM\\n. https://t.co/0Gd2LFOvHE   \n",
       "212                                                                                                                                                                                                                        🇧🇷SDV DE DIREITA🇧🇷\\n@user\\n@user\\n@user\\n@user\\n@user\\n@user\\n@user\\n@user\\n@user\\n@user\\n@user\\n@user\\n@user\\n@user\\n@user\\n@user\\n@user\\n@user\\n@user\\n@user   \n",
       "4275                                                                                                                                                                                                                       SDV-DIREITA UNIDA\\n@user\\n@user\\n@user\\n@user\\n@user\\n @user\\n@user\\n@user \\n@user \\n@user\\n@user \\n@user \\n@user \\n@user\\n@user \\n@user \\n@user\\n@user\\n@user   \n",
       "19764                                                                                                                                                                                                                              @user @user @user @user @user @user @user @user @user @user @user @user @user @user @user @user @user @user @user os fatos pqp https://t.co/maN5FSN2lz   \n",
       "\n",
       "       homophobia  obscene  insult  racism  misogyny  xenophobia  \\\n",
       "1221          0.0      0.0     0.0     0.0       0.0         0.0   \n",
       "3431          0.0      0.0     2.0     0.0       0.0         0.0   \n",
       "212           0.0      0.0     0.0     0.0       0.0         0.0   \n",
       "4275          0.0      0.0     0.0     0.0       0.0         0.0   \n",
       "19764         0.0      0.0     0.0     0.0       0.0         0.0   \n",
       "\n",
       "       user_mentions  \n",
       "1221              50  \n",
       "3431              50  \n",
       "212               20  \n",
       "4275              19  \n",
       "19764             19  "
      ]
     },
     "metadata": {},
     "output_type": "display_data"
    }
   ],
   "source": [
    "filter = \"@user\" # \"\\n\" ou \"@user\"\n",
    "df['user_mentions'] = df['text'].str.count(filter)\n",
    "df_sorted_by_mentions = df.sort_values(by='user_mentions', ascending=False)\n",
    "pd.set_option('display.max_colwidth', None)\n",
    "display(df_sorted_by_mentions.head())\n",
    "pd.reset_option('display.max_colwidth')"
   ]
  },
  {
   "cell_type": "markdown",
   "id": "a06a6b54",
   "metadata": {},
   "source": [
    "Ter bastante '@user' e 'n' nas mensagens pode prejudicar o treinamento do modelo.\n",
    "Pensando nisso podemos fazer uma das seguintes opções:  \n",
    "\n",
    "sobre o @user:\n",
    "- apagar todos;\n",
    "- substituir por nomes aleatórios;\n",
    "\n",
    "sobre o '\\n':\n",
    "- substituir por espaço (' ')\n",
    "- deixar do jeito que está"
   ]
  }
 ],
 "metadata": {
  "kernelspec": {
   "display_name": ".venv",
   "language": "python",
   "name": "python3"
  },
  "language_info": {
   "codemirror_mode": {
    "name": "ipython",
    "version": 3
   },
   "file_extension": ".py",
   "mimetype": "text/x-python",
   "name": "python",
   "nbconvert_exporter": "python",
   "pygments_lexer": "ipython3",
   "version": "3.13.7"
  }
 },
 "nbformat": 4,
 "nbformat_minor": 5
}
